{
 "cells": [
  {
   "cell_type": "code",
   "execution_count": 1,
   "metadata": {
    "collapsed": false
   },
   "outputs": [
    {
     "name": "stdout",
     "output_type": "stream",
     "text": [
      "\u001b[33mYou are using pip version 7.1.0, however version 7.1.2 is available.\r\n",
      "You should consider upgrading via the 'pip install --upgrade pip' command.\u001b[0m\r\n",
      "Requirement already satisfied (use --upgrade to upgrade): yhat in /home/sciencebox/.anaconda2/lib/python2.7/site-packages\r\n",
      "Requirement already satisfied (use --upgrade to upgrade): pip in /home/sciencebox/.anaconda2/lib/python2.7/site-packages (from yhat)\r\n",
      "Requirement already satisfied (use --upgrade to upgrade): Flask==0.10.1 in /home/sciencebox/.anaconda2/lib/python2.7/site-packages (from yhat)\r\n",
      "Requirement already satisfied (use --upgrade to upgrade): websocket-client==0.12.0 in /home/sciencebox/.anaconda2/lib/python2.7/site-packages (from yhat)\r\n",
      "Requirement already satisfied (use --upgrade to upgrade): dill==0.2b1 in /home/sciencebox/.anaconda2/lib/python2.7/site-packages (from yhat)\r\n",
      "Requirement already satisfied (use --upgrade to upgrade): terragon==0.1.4 in /home/sciencebox/.anaconda2/lib/python2.7/site-packages (from yhat)\r\n",
      "Requirement already satisfied (use --upgrade to upgrade): progressbar==2.2 in /home/sciencebox/.anaconda2/lib/python2.7/site-packages (from yhat)\r\n",
      "Requirement already satisfied (use --upgrade to upgrade): poster==0.8.1 in /home/sciencebox/.anaconda2/lib/python2.7/site-packages (from yhat)\r\n"
     ]
    }
   ],
   "source": [
    "! pip install yhat"
   ]
  },
  {
   "cell_type": "code",
   "execution_count": 6,
   "metadata": {
    "collapsed": false
   },
   "outputs": [
    {
     "name": "stdout",
     "output_type": "stream",
     "text": [
      "\u001b[33mYou are using pip version 7.1.0, however version 7.1.2 is available.\n",
      "You should consider upgrading via the 'pip install --upgrade pip' command.\u001b[0m\n",
      "Requirement already up-to-date: Pint in /home/sciencebox/.anaconda2/lib/python2.7/site-packages\n"
     ]
    }
   ],
   "source": [
    "! pip install -U Pint"
   ]
  },
  {
   "cell_type": "code",
   "execution_count": null,
   "metadata": {
    "collapsed": true
   },
   "outputs": [],
   "source": []
  }
 ],
 "metadata": {
  "kernelspec": {
   "display_name": "Python 2",
   "language": "python",
   "name": "python2"
  },
  "language_info": {
   "codemirror_mode": {
    "name": "ipython",
    "version": 2
   },
   "file_extension": ".py",
   "mimetype": "text/x-python",
   "name": "python",
   "nbconvert_exporter": "python",
   "pygments_lexer": "ipython2",
   "version": "2.7.10"
  }
 },
 "nbformat": 4,
 "nbformat_minor": 0
}
