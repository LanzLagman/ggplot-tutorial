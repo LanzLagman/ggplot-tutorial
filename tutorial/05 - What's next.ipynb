{
 "metadata": {
  "name": ""
 },
 "nbformat": 3,
 "nbformat_minor": 0,
 "worksheets": [
  {
   "cells": [
    {
     "cell_type": "markdown",
     "metadata": {},
     "source": [
      "- mpl2d3\n",
      "- improved options for scales and geoms\n",
      "- improved legends"
     ]
    }
   ],
   "metadata": {}
  }
 ]
}